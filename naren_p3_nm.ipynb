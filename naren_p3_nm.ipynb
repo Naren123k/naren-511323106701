{
  "nbformat": 4,
  "nbformat_minor": 0,
  "metadata": {
    "colab": {
      "provenance": [],
      "authorship_tag": "ABX9TyOlKL12uz2w9i3bFlmDsH/M",
      "include_colab_link": true
    },
    "kernelspec": {
      "name": "python3",
      "display_name": "Python 3"
    },
    "language_info": {
      "name": "python"
    }
  },
  "cells": [
    {
      "cell_type": "markdown",
      "metadata": {
        "id": "view-in-github",
        "colab_type": "text"
      },
      "source": [
        "<a href=\"https://colab.research.google.com/github/Naren123k/naren-511323106701/blob/main/naren_p3_nm.ipynb\" target=\"_parent\"><img src=\"https://colab.research.google.com/assets/colab-badge.svg\" alt=\"Open In Colab\"/></a>"
      ]
    },
    {
      "cell_type": "code",
      "execution_count": null,
      "metadata": {
        "id": "Iw1Pl9-ceCV2"
      },
      "outputs": [],
      "source": [
        "import pandas as pd\n",
        "import numpy as np\n",
        "\n",
        "# Load dataset\n",
        "df = pd.read_csv(\"stock_data.csv\", parse_dates=[\"Date\"])\n",
        "df.sort_values(\"Date\", inplace=True)\n",
        "\n",
        "# Basic sanity check\n",
        "df.reset_index(drop=True, inplace=True)\n",
        "\n",
        "# -----------------------------\n",
        "# Feature Engineering\n",
        "# -----------------------------\n",
        "\n",
        "# 1. Moving Averages\n",
        "df['MA_10'] = df['Close'].rolling(window=10).mean()\n",
        "df['MA_20'] = df['Close'].rolling(window=20).mean()\n",
        "\n",
        "# 2. Relative Strength Index (RSI)\n",
        "def calculate_rsi(series, period=14):\n",
        "    delta = series.diff()\n",
        "    gain = np.where(delta > 0, delta, 0)\n",
        "    loss = np.where(delta < 0, -delta, 0)\n",
        "    avg_gain = pd.Series(gain).rolling(window=period).mean()\n",
        "    avg_loss = pd.Series(loss).rolling(window=period).mean()\n",
        "    rs = avg_gain / (avg_loss + 1e-9)\n",
        "    rsi = 100 - (100 / (1 + rs))\n",
        "    return rsi\n",
        "\n",
        "df['RSI_14'] = calculate_rsi(df['Close'])\n",
        "\n",
        "# 3. Momentum\n",
        "df['Momentum'] = df['Close'] - df['Close'].shift(5)\n",
        "\n",
        "# 4. Log Returns\n",
        "df['Log_Returns'] = np.log(df['Close'] / df['Close'].shift(1))\n",
        "\n",
        "# 5. Lag Features (useful for time series models)\n",
        "for lag in range(1, 6):\n",
        "    df[f'lag_{lag}'] = df['Close'].shift(lag)\n",
        "\n",
        "# Drop NaNs caused by rolling and shifting\n",
        "df.dropna(inplace=True)\n",
        "\n",
        "# -----------------------------\n",
        "# Feature Scaling (optional here, essential for ML models)\n",
        "# -----------------------------\n",
        "from sklearn.preprocessing import MinMaxScaler\n",
        "\n",
        "scaler = MinMaxScaler()\n",
        "scaled_features = scaler.fit_transform(df[['Close', 'MA_10', 'MA_20', 'RSI_14', 'Momentum']])\n",
        "scaled_df = pd.DataFrame(scaled_features, columns=['Close_Scaled', 'MA_10_Scaled', 'MA_20_Scaled', 'RSI_14_Scaled', 'Momentum_Scaled'])\n",
        "\n",
        "# Combine scaled and original for modeling\n",
        "df = pd.concat([df.reset_index(drop=True), scaled_df.reset_index(drop=True)], axis=1)\n",
        "\n",
        "# Final dataframe ready for modeling\n",
        "print(df.head())\n"
      ]
    }
  ]
}